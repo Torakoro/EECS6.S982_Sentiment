{
 "cells": [
  {
   "cell_type": "code",
   "execution_count": 1,
   "metadata": {},
   "outputs": [
    {
     "name": "stdout",
     "output_type": "stream",
     "text": [
      "0     Admission Date:  [**2151-7-16**]       Dischar...\n",
      "1     Admission Date:  [**2118-6-2**]       Discharg...\n",
      "2     Admission Date:  [**2119-5-4**]              D...\n",
      "3     Admission Date:  [**2124-7-21**]              ...\n",
      "4     Admission Date:  [**2162-3-3**]              D...\n",
      "                            ...                        \n",
      "95    Admission Date:  [**2178-11-15**]             ...\n",
      "96    Admission Date:  [**2178-12-5**]              ...\n",
      "97    Admission Date:  [**2179-2-1**]              D...\n",
      "98    Admission Date:  [**2179-3-21**]              ...\n",
      "99    Admission Date:  [**2179-4-12**]              ...\n",
      "Name: TEXT, Length: 100, dtype: object\n"
     ]
    },
    {
     "name": "stderr",
     "output_type": "stream",
     "text": [
      "/Users/guangyawan/opt/anaconda3/lib/python3.9/site-packages/IPython/core/interactiveshell.py:3444: FutureWarning: The error_bad_lines argument has been deprecated and will be removed in a future version.\n",
      "\n",
      "\n",
      "  exec(code_obj, self.user_global_ns, self.user_ns)\n"
     ]
    }
   ],
   "source": [
    "import pandas as pd\n",
    "data = pd.read_csv('NOTEEVENTS.csv.gz', nrows=100, compression='gzip',\n",
    "                   error_bad_lines=False)\n",
    "print(data['TEXT'])"
   ]
  },
  {
   "cell_type": "code",
   "execution_count": 8,
   "metadata": {},
   "outputs": [
    {
     "data": {
      "text/plain": [
       "'Admission Date:  [**2118-12-7**]              Discharge Date:   [**2118-12-9**]\\n\\nDate of Birth:  [**2073-12-25**]             Sex:   F\\n\\nService: NEUROSURGERY\\n\\nAllergies:\\nCodeine\\n\\nAttending:[**First Name3 (LF) 1854**]\\nChief Complaint:\\nSkull defect\\n\\nMajor Surgical or Invasive Procedure:\\ns/p cranioplasty on [**2118-12-7**]\\n\\n\\nHistory of Present Illness:\\n44 yo female with a h/o left frontal AVM in the supplementary\\nmotor area. The AVM was treated with stereotactic radiosurgery\\n(Gamma Knife)in [**2114**]. In [**2116**], the patient developed a seizure\\ndisorder. [**2118-5-27**] she developed\\nheadaches and after an MRI and a digital angiogram showed no\\nresidual pathological vessels, a contrast enhancing lesion\\nwith massive focal residual edema was diagnosed- very\\nlikely represents radionecrosis. The patient had midline\\nshift and mass effect. On [**2118-8-10**] she had a left craniotomy for\\nresection of the radionecrosis. She then presented to the office\\nin [**2118-8-27**] with increased left facial swelling and incision\\ndrainage, she was taken to the OR for a wound washout and\\ncraniectomy. She now returns for a cranioplasty after a long\\ncourse of outpatient IV antibiotic therapy.\\n\\n\\nPast Medical History:\\nseizures,h/o radio therapy for avm has resid edema causing\\nseizures; Dysrhythmia (palps w/ panic attacks), Recent Upper\\nRespiratory Infection\\nPalpitations with panic attacks\\nPanic, anxiety\\nDepression\\nh/o nephrolithiasis (at 20yrs old)\\nTB as a child (treated)\\n\\n\\nSocial History:\\nMarried. Lives with husband.\\n\\nFamily History:\\nNon-contributory\\n\\nPhysical Exam:\\nOn admission:\\nAOx3, PERRL, Face symm, tongue midline. EOM intact w/o\\nnystagmus. Speech clear and fluent. Comprehension intact.\\nFollows commands. No pronator. MAE [**5-31**]\\n\\nUpon discharge:\\nAOx3. Neuro intact. MAE [**5-31**]. Incision C/D/I. Ambulating,\\ntolerating POs\\n\\nPertinent Results:\\nCT Head [**2118-12-7**]: (Post-Op)\\nPatient is status post left frontal cranioplasty. Persistent\\nvasogenic edema in the left frontal lobe, unchanged. No shift of\\nnormally\\nmidline structures or acute hemorrhage identified.\\n\\n*******************\\n\\n[**2118-12-7**] 03:13PM   WBC-13.8*# RBC-4.76 HGB-12.8 HCT-37.6 MCV-79*\\nMCH-27.0 MCHC-34.2 RDW-14.4\\n[**2118-12-7**] 03:13PM   PLT COUNT-555*\\n[**2118-12-7**] 03:13PM   CALCIUM-9.2 PHOSPHATE-3.4 MAGNESIUM-2.3\\n[**2118-12-7**] 03:13PM   estGFR-Using this\\n[**2118-12-7**] 03:13PM   GLUCOSE-128* CREAT-0.9 SODIUM-141\\nPOTASSIUM-4.1 CHLORIDE-102 TOTAL CO2-30 ANION GAP-13\\n\\nBrief Hospital Course:\\n44 yo female who was electively admitted for a cranioplasty with\\nDr. [**Last Name (STitle) **]. Immediately post-op she remained in the PACU\\novernight. Overnight she voided 4L and received 1L NS bolus. POD\\n1 she was transferred to the floor. Prior to transfer she was\\nnoted to have increase HR, low BP, and low urine output thus\\nreceived 1L of NS. On the floor, she was OOB to chair,\\ntolerating a regular diet. She was neurologically intact and\\ncleared for discharge on [**2118-12-9**].\\n\\nMedications on Admission:\\nFLUTICASONE [FLONASE] -  (Prescribed by Other Provider) - 50 mcg\\nSpray, Suspension - 2 sprays(s) each nostril daily as needed for\\nnasal congestion\\nLEVETIRACETAM [KEPPRA] - 1,000 mg Tablet - 1 Tablet(s) by mouth\\ntwice a day - No Substitution\\nLEVETIRACETAM [KEPPRA] - 500 mg Tablet - 1 Tablet(s) by mouth at\\nbedtime - No Substitution\\nLEVETIRACETAM [KEPPRA] - 250 mg Tablet - 1 Tablet(s) by mouth\\nfour times a day - No Substitution\\nOSELTAMIVIR [TAMIFLU] - 75 mg Capsule - one Capsule(s) by mouth\\ntwice a day x 5 days\\nVENLAFAXINE - 50 mg Tablet - One Tablet(s) by mouth twice a day\\nACETAMINOPHEN [TYLENOL] -  (OTC) - Dosage uncertain\\nIBUPROFEN [ADVIL MIGRAINE] -  (OTC) - 200 mg Capsule - 1\\nCapsule(s) by mouth once a day as needed for headache\\n\\n\\nDischarge Medications:\\n1. Acetaminophen 325 mg Tablet Sig: 1-2 Tablets PO Q4H (every 4\\nhours) as needed for pain/t>100/HA.\\n2. Bisacodyl 5 mg Tablet, Delayed Release (E.C.) Sig: Two (2)\\nTablet, Delayed Release (E.C.) PO DAILY (Daily) as needed for\\nconstipation.\\n3. Docusate Sodium 100 mg Capsule Sig: One (1) Capsule PO BID (2\\ntimes a day).\\nDisp:*60 Capsule(s)* Refills:*2*\\n4. Hydromorphone 2 mg Tablet Sig: 1-2 Tablets PO Q4H (every 4\\nhours) as needed for pain.\\nDisp:*30 Tablet(s)* Refills:*0*\\n5. Venlafaxine 25 mg Tablet Sig: Two (2) Tablet PO BID (2 times\\na day).\\n6. Fluticasone 50 mcg/Actuation Spray, Suspension Sig: Two (2)\\nSpray Nasal DAILY (Daily) as needed for nasal congestion.\\n7. Dexamethasone 2 mg Tablet Sig: One (1) Tablet PO Q6H (every 6\\nhours) for 6 days: Take 2mg Q6hrs [**Date range (1) 1855**], take 2mg Q12\\n[**Date range (1) 1856**], Take 2mg Q24 [**12-14**], then stop.\\nDisp:*16 Tablet(s)* Refills:*0*\\n8. Levetiracetam 500 mg Tablet Sig: 2.5 Tablets PO BID (2 times\\na day).\\n\\n\\nDischarge Disposition:\\nHome\\n\\nDischarge Diagnosis:\\nSkull defect\\ns/p cranioplasty\\n\\n\\nDischarge Condition:\\nNeurologically Stable\\n\\n\\nDischarge Instructions:\\nGeneral Instructions\\n\\n??????\\tHave a friend/family member check your incision daily for\\nsigns of infection.\\n??????\\tTake your pain medicine as prescribed.\\n??????\\tExercise should be limited to walking; no lifting, straining,\\nor excessive bending.\\n??????\\tYou may wash your hair only after sutures and/or staples have\\nbeen removed.\\n??????\\tYou may shower before this time using a shower cap to cover\\nyour head.\\n??????\\tIncrease your intake of fluids and fiber, as narcotic pain\\nmedicine can cause constipation. We generally recommend taking\\nan over the counter stool softener, such as Docusate (Colace)\\nwhile taking narcotic pain medication.\\n??????\\tUnless directed by your doctor, do not take any\\nanti-inflammatory medicines such as Motrin, Aspirin, Advil, and\\nIbuprofen etc.\\n??????\\tClearance to drive and return to work will be addressed at\\nyour post-operative office visit.\\n\\nCALL YOUR SURGEON IMMEDIATELY IF YOU EXPERIENCE ANY OF THE\\nFOLLOWING\\n\\n??????\\tNew onset of tremors or seizures.\\n??????\\tAny confusion or change in mental status.\\n??????\\tAny numbness, tingling, weakness in your extremities.\\n??????\\tPain or headache that is continually increasing, or not\\nrelieved by pain medication.\\n??????\\tAny signs of infection at the wound site: redness, swelling,\\ntenderness, or drainage.\\n??????\\tFever greater than or equal to 101?????? F.\\n\\n\\nFollowup Instructions:\\nYou will need to see the nurse practitioner 14 days\\npost-operatively for suture removal. Please call [**Telephone/Fax (1) 1669**]\\nfor the appointment.\\nYou will need to follow up with Dr. [**Last Name (STitle) **] in 4 weeks with a\\nHead CT of the brain.\\n\\n\\n\\nCompleted by:[**2118-12-9**]'"
      ]
     },
     "execution_count": 8,
     "metadata": {},
     "output_type": "execute_result"
    }
   ],
   "source": [
    "# https://www.analyticsvidhya.com/blog/2020/08/top-4-sentence-embedding-techniques-using-python/"
   ]
  },
  {
   "cell_type": "code",
   "execution_count": null,
   "metadata": {},
   "outputs": [],
   "source": []
  }
 ],
 "metadata": {
  "kernelspec": {
   "display_name": "Python 3.9.7 ('base')",
   "language": "python",
   "name": "python3"
  },
  "language_info": {
   "codemirror_mode": {
    "name": "ipython",
    "version": 3
   },
   "file_extension": ".py",
   "mimetype": "text/x-python",
   "name": "python",
   "nbconvert_exporter": "python",
   "pygments_lexer": "ipython3",
   "version": "3.9.7"
  },
  "orig_nbformat": 4,
  "vscode": {
   "interpreter": {
    "hash": "ef24d47633c1e50a0ab5a4a4426166385cbae72ca2faf67d266461f91057cbfa"
   }
  }
 },
 "nbformat": 4,
 "nbformat_minor": 2
}
